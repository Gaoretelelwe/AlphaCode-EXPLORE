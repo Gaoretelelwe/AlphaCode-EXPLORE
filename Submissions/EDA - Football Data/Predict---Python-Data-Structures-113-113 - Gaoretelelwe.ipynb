{
 "cells": [
  {
   "cell_type": "markdown",
   "metadata": {},
   "source": [
    "# Predict - Python Data Structures"
   ]
  },
  {
   "cell_type": "markdown",
   "metadata": {},
   "source": [
    "This is the project on Python Data Structures. We will start by transforming the raw data for you. You then need to create 9 functions as specified in the project instructions.\n",
    "\n",
    "NB: Make sure the football_players.csv file is in the same directory as this notebook\n",
    "\n",
    "**PROJECT RULES**:\n",
    "\n",
    "* You may not import any external packages (except for pandas) - all of the functions need to be solved WITHOUT THE USE OF ANY OTHER EXTERNAL MODULES.\n",
    "* Most importantly: your functions need to return the answer (not just print it out).\n",
    "* Do not add or remove any cells from this notebook. Use another notebook to experiment in (or in which to do your workings), but your submission may not have any additional cells or functions.\n",
    "* Only fill in code where the #YOUR CODE tags appear. No code outside these areas (or outside the given functions) will be marked."
   ]
  },
  {
   "cell_type": "markdown",
   "metadata": {},
   "source": [
    "## Transform Data"
   ]
  },
  {
   "cell_type": "markdown",
   "metadata": {},
   "source": [
    "### Import Data"
   ]
  },
  {
   "cell_type": "code",
   "execution_count": 1,
   "metadata": {},
   "outputs": [
    {
     "name": "stderr",
     "output_type": "stream",
     "text": [
      "C:\\ProgramData\\Anaconda3\\lib\\site-packages\\IPython\\core\\interactiveshell.py:3058: DtypeWarning: Columns (14,26) have mixed types. Specify dtype option on import or set low_memory=False.\n",
      "  interactivity=interactivity, compiler=compiler, result=result)\n"
     ]
    }
   ],
   "source": [
    "import pandas as pd\n",
    "\n",
    "# Load data - pass 'Name' as our index column\n",
    "load_df = pd.read_csv('football_players.csv', index_col='Name').sample(frac=1)\n",
    "\n",
    "# Create dataframe called df\n",
    "df = pd.DataFrame(load_df)"
   ]
  },
  {
   "cell_type": "markdown",
   "metadata": {},
   "source": [
    "### Create Position Type Column"
   ]
  },
  {
   "cell_type": "code",
   "execution_count": 2,
   "metadata": {},
   "outputs": [],
   "source": [
    "def position_type(s):\n",
    "    \n",
    "    \"\"\"This function converts the individual positions (abbreviations) and classfies it\n",
    "    as either a forward, midfielder, back or goal keeper\"\"\"\n",
    "    \n",
    "    if (s[-2] == 'T') | (s[-2] == 'W'):\n",
    "        return 'Forward'\n",
    "    elif s[-2] == 'M':\n",
    "        return 'Midfielder'\n",
    "    elif s[-2] == 'B':\n",
    "        return 'Back'\n",
    "    else:\n",
    "        return 'GoalKeeper'\n",
    "\n",
    "# Create position type column\n",
    "df['Preferred Positions Type'] = df['Preferred Positions'].apply(position_type)"
   ]
  },
  {
   "cell_type": "markdown",
   "metadata": {},
   "source": [
    "### Transform Attribute Columns to Floats"
   ]
  },
  {
   "cell_type": "code",
   "execution_count": 3,
   "metadata": {},
   "outputs": [],
   "source": [
    "# Select all attribute columns\n",
    "cols = ['Overall', 'Acceleration', 'Aggression',\n",
    "       'Agility', 'Balance', 'Ball control', 'Composure', 'Crossing', 'Curve',\n",
    "       'Dribbling', 'Finishing', 'Free kick accuracy', 'GK diving',\n",
    "       'GK handling', 'GK kicking', 'GK positioning', 'GK reflexes',\n",
    "       'Heading accuracy', 'Interceptions', 'Jumping', 'Long passing',\n",
    "       'Long shots', 'Marking', 'Penalties', 'Positioning', 'Reactions',\n",
    "       'Short passing', 'Shot power', 'Sliding tackle', 'Sprint speed',\n",
    "       'Stamina', 'Standing tackle', 'Strength', 'Vision', 'Volleys']\n",
    "\n",
    "def to_float(x):    \n",
    "    \"Transforms attribute columns to type float\"\n",
    "    \n",
    "    if type(x) is int:\n",
    "        return float(x)\n",
    "    else:\n",
    "        return float(x[0:2])\n",
    "\n",
    "df[cols] = df[cols].applymap(to_float)"
   ]
  },
  {
   "cell_type": "markdown",
   "metadata": {},
   "source": [
    "Function 1\n",
    "\n",
    "Build an algorithm that identifies the nth ranked (rank) defender in the world - sorted by 'Overall' then 'Name' (both descending order)\n",
    "* Under a certain age (max_age)"
   ]
  },
  {
   "cell_type": "code",
   "execution_count": 79,
   "metadata": {
    "deletable": false,
    "nbgrader": {
     "checksum": "fd9987117981c2666db098cae2dbb9e9",
     "grade": false,
     "grade_id": "cell-0079c74c9608a898",
     "locked": false,
     "schema_version": 1,
     "solution": true
    }
   },
   "outputs": [],
   "source": [
    "### START FUNCTION 1\n",
    "\n",
    "def best_defender_1(rank, max_age):\n",
    "    \n",
    "    df_Age = df[df['Age'] < max_age].sort_values(by=['Overall', 'Name'], ascending=False)\n",
    "    df_Defender = df_Age[df_Age['Preferred Positions Type'] == 'Back']\n",
    "    df_Rank = df_Defender.head(rank).tail(1)\n",
    "    \n",
    "    return df_Rank.index[0]\n",
    "\n",
    "### END FUNCTION 1"
   ]
  },
  {
   "cell_type": "code",
   "execution_count": 80,
   "metadata": {
    "deletable": false,
    "editable": false,
    "nbgrader": {
     "checksum": "2a35efec6d519e2e206fd32444cb8dff",
     "grade": true,
     "grade_id": "cell-b2b018f3267ac46d",
     "locked": true,
     "points": 1,
     "schema_version": 1,
     "solution": false
    }
   },
   "outputs": [
    {
     "data": {
      "text/plain": [
       "'T. Alderweireld'"
      ]
     },
     "execution_count": 80,
     "metadata": {},
     "output_type": "execute_result"
    }
   ],
   "source": [
    "best_defender_1(10, 35)"
   ]
  },
  {
   "cell_type": "markdown",
   "metadata": {},
   "source": [
    "## Function 2\n",
    "\n",
    "Build an algorithm that identifies the nth ranked (rank) defender in the world - sorted by 'Overall' then 'Name' (both descending order)\n",
    "* Under a certain age (max_age)\n",
    "* Has an aggression score below a certain level (max_aggression)\n",
    "* Has a stamina score above a certain level (min_stamina)"
   ]
  },
  {
   "cell_type": "code",
   "execution_count": 106,
   "metadata": {
    "deletable": false,
    "nbgrader": {
     "checksum": "5f2ca2117e2c70f754b66e973f7d33a2",
     "grade": false,
     "grade_id": "cell-372744b6ef038955",
     "locked": false,
     "schema_version": 1,
     "solution": true
    }
   },
   "outputs": [],
   "source": [
    "### START FUNCTION 2\n",
    "\n",
    "def best_defender_2(rank, max_age, max_aggression, min_stamina):\n",
    "    \n",
    "    df_Age = df[df['Age'] < max_age].sort_values(by=['Overall', 'Name'], ascending=False)\n",
    "    df_Defender = df_Age[df_Age['Preferred Positions Type'] == 'Back']\n",
    "    df_Aggression = df_Defender[df_Defender['Aggression'] < max_aggression]\n",
    "    df_Stamina = df_Aggression[df_Aggression['Stamina'] > min_stamina]\n",
    "    df_Rank = df_Stamina.head(rank).tail(1)\n",
    "    \n",
    "    return df_Rank.index[0]\n",
    "\n",
    "### END FUNCTION 2"
   ]
  },
  {
   "cell_type": "code",
   "execution_count": 107,
   "metadata": {
    "deletable": false,
    "editable": false,
    "nbgrader": {
     "checksum": "0cefd688b740afa5cc3ffe6dca4c4269",
     "grade": true,
     "grade_id": "cell-94a1063ba5a8d454",
     "locked": true,
     "points": 1,
     "schema_version": 1,
     "solution": false
    }
   },
   "outputs": [
    {
     "data": {
      "text/plain": [
       "'K. Walker'"
      ]
     },
     "execution_count": 107,
     "metadata": {},
     "output_type": "execute_result"
    }
   ],
   "source": [
    "best_defender_2(10, 30, 80, 60)"
   ]
  },
  {
   "cell_type": "markdown",
   "metadata": {},
   "source": [
    "## Function 3\n",
    "\n",
    "Build an algorithm that identifies the nth ranked (rank) defender in the world - sorted by 'Overall' then 'Name' (both descending order)\n",
    "* Under a certain age\n",
    "* Does not play for a certain team (team)"
   ]
  },
  {
   "cell_type": "code",
   "execution_count": 83,
   "metadata": {
    "deletable": false,
    "nbgrader": {
     "checksum": "82ccaa3880d17abb119c3ef995bce8bd",
     "grade": false,
     "grade_id": "cell-ace872bcbdc4e3f1",
     "locked": false,
     "schema_version": 1,
     "solution": true
    }
   },
   "outputs": [],
   "source": [
    "### START FUNCTION 3\n",
    "\n",
    "def best_defender_3(rank, max_age, team):\n",
    "    \n",
    "    df_Age = df[df['Age'] < max_age].sort_values(by=['Overall', 'Name'], ascending=False)\n",
    "    df_Defender = df_Age[df_Age['Preferred Positions Type'] == 'Back']\n",
    "    df_No_In_Team = df_Defender[df_Defender['Nationality'] != team]\n",
    "    df_Rank = df_No_In_Team.head(rank).tail(1)\n",
    "    \n",
    "    return df_Rank.index[0]\n",
    "\n",
    "### END FUNCTION 3"
   ]
  },
  {
   "cell_type": "code",
   "execution_count": 84,
   "metadata": {
    "deletable": false,
    "editable": false,
    "nbgrader": {
     "checksum": "36aa9b1efb3eb07ab50cfe3d5ec68aaf",
     "grade": true,
     "grade_id": "cell-a12647ed7ae4d4a3",
     "locked": true,
     "points": 1,
     "schema_version": 1,
     "solution": false
    }
   },
   "outputs": [
    {
     "data": {
      "text/plain": [
       "'A. Rüdiger'"
      ]
     },
     "execution_count": 84,
     "metadata": {},
     "output_type": "execute_result"
    }
   ],
   "source": [
    "best_defender_3(10, 25, 'Argentina')"
   ]
  },
  {
   "cell_type": "markdown",
   "metadata": {},
   "source": [
    "Function 4\n",
    "\n",
    "Build an algorithm that identifies the nth ranked (rank) attacker in the world - sorted by 'Overall' then 'Name' (both descending order)\n",
    "* With specified attribute (attribute_name) above a threshold (min_attribute_score)"
   ]
  },
  {
   "cell_type": "code",
   "execution_count": 108,
   "metadata": {
    "deletable": false,
    "nbgrader": {
     "checksum": "e1920c6ce301d688350870aae0eab78e",
     "grade": false,
     "grade_id": "cell-3f1cbc25da7253f7",
     "locked": false,
     "schema_version": 1,
     "solution": true
    }
   },
   "outputs": [],
   "source": [
    "### START FUNCTION 4\n",
    "\n",
    "def best_attacker_1(rank, attribute_name, min_attribute_score):\n",
    "    \n",
    "    df_Attacker = df[df['Preferred Positions Type'] == 'Forward'].sort_values(by=['Overall', 'Name'], ascending=False)\n",
    "    df_Attribute = df_Attacker[df_Attacker[attribute_name] > min_attribute_score]\n",
    "    df_Rank = df_Attribute.head(rank).tail(1)\n",
    "    \n",
    "    return df_Rank.index[0]\n",
    "\n",
    "### END FUNCTION 4"
   ]
  },
  {
   "cell_type": "code",
   "execution_count": 109,
   "metadata": {
    "deletable": false,
    "editable": false,
    "nbgrader": {
     "checksum": "6e74880c2eff19174213bf06a31c90f0",
     "grade": true,
     "grade_id": "cell-37761fa0c4238b05",
     "locked": true,
     "points": 1,
     "schema_version": 1,
     "solution": false
    }
   },
   "outputs": [
    {
     "data": {
      "text/plain": [
       "'P. Aubameyang'"
      ]
     },
     "execution_count": 109,
     "metadata": {},
     "output_type": "execute_result"
    }
   ],
   "source": [
    "best_attacker_1(10, 'Balance', 50)"
   ]
  },
  {
   "cell_type": "markdown",
   "metadata": {},
   "source": [
    "Function 5\n",
    "\n",
    "Build an algorithm that identifies the nth ranked (rank) attacker in the world - sorted by 'Overall' then 'Name' (both descending order)\n",
    "* With average of specified attributes (attribute_1_name, attribute_2_name) above a threshold (min_attributes_ave)"
   ]
  },
  {
   "cell_type": "code",
   "execution_count": 87,
   "metadata": {
    "deletable": false,
    "nbgrader": {
     "checksum": "e66ffaf662ef5d6d4047de76251eaa65",
     "grade": false,
     "grade_id": "cell-3e834f9f294659c2",
     "locked": false,
     "schema_version": 1,
     "solution": true
    }
   },
   "outputs": [],
   "source": [
    "### START FUNCTION 5\n",
    "\n",
    "def best_attacker_2(rank, attribute_1_name, attribute_2_name, min_attributes_ave):\n",
    "    \n",
    "    df_Attacker = df[df['Preferred Positions Type'] == 'Forward'].sort_values(by=['Overall', 'Name'], ascending=False)\n",
    "    df_Attribute = df_Attacker[((df_Attacker[attribute_1_name] + df_Attacker[attribute_2_name])/2) > min_attributes_ave]\n",
    "    df_Rank = df_Attribute.head(rank).tail(1)\n",
    "    \n",
    "    return df_Rank.index[0]\n",
    "\n",
    "### END FUNCTION 5"
   ]
  },
  {
   "cell_type": "code",
   "execution_count": 88,
   "metadata": {
    "deletable": false,
    "editable": false,
    "nbgrader": {
     "checksum": "abf99acf7923f31b83e92e7b0c7474a5",
     "grade": true,
     "grade_id": "cell-d5f61c15d98a08b9",
     "locked": true,
     "points": 1,
     "schema_version": 1,
     "solution": false
    }
   },
   "outputs": [
    {
     "data": {
      "text/plain": [
       "'S. Mané'"
      ]
     },
     "execution_count": 88,
     "metadata": {},
     "output_type": "execute_result"
    }
   ],
   "source": [
    "best_attacker_2(10, 'Finishing', 'Balance', 80)"
   ]
  },
  {
   "cell_type": "markdown",
   "metadata": {},
   "source": [
    "## Function 6\n",
    "\n",
    "Build an algorithm that identifies the nth ranked (rank) attacker in the world - sorted by 'Overall' then 'Name' (both descending order)\n",
    "* With minimum of specified attributes (attribute_1_name, attribute_2_name) above a threshold (min_attributes_min)"
   ]
  },
  {
   "cell_type": "code",
   "execution_count": 89,
   "metadata": {
    "deletable": false,
    "nbgrader": {
     "checksum": "557a5a1f8fa96ea0da5fce808ef75b94",
     "grade": false,
     "grade_id": "cell-5c125eba5c5f4d77",
     "locked": false,
     "schema_version": 1,
     "solution": true
    }
   },
   "outputs": [],
   "source": [
    "### START FUNCTION 6\n",
    "\n",
    "def best_attacker_3(rank, attribute_1_name, attribute_2_name, min_attributes_min):\n",
    "    \n",
    "    df_Attacker = df[df['Preferred Positions Type'] == 'Forward'].sort_values(by=['Overall', 'Name'], ascending=False)\n",
    "\n",
    "    if attribute_1_name < attribute_2_name: df_Attribute = df_Attacker[df_Attacker[attribute_1_name] > min_attributes_min]\n",
    "    else: df_Attribute = df_Attacker[df_Attacker[attribute_2_name] > min_attributes_min]\n",
    "    \n",
    "    df_Rank = df_Attribute.head(rank).tail(1)\n",
    "    \n",
    "    return df_Rank.index[0]\n",
    "    \n",
    "### END FUNCTION 6"
   ]
  },
  {
   "cell_type": "code",
   "execution_count": 90,
   "metadata": {
    "deletable": false,
    "editable": false,
    "nbgrader": {
     "checksum": "43ce7a8d7615df820bbf1cf9ce46deef",
     "grade": true,
     "grade_id": "cell-021aba56f1518f05",
     "locked": true,
     "points": 1,
     "schema_version": 1,
     "solution": false
    }
   },
   "outputs": [
    {
     "data": {
      "text/plain": [
       "'A. Di María'"
      ]
     },
     "execution_count": 90,
     "metadata": {},
     "output_type": "execute_result"
    }
   ],
   "source": [
    "best_attacker_3(10, 'Balance', 'Composure', 70)"
   ]
  },
  {
   "cell_type": "markdown",
   "metadata": {},
   "source": [
    "## Function 7\n",
    "\n",
    "Build an algorithm that identifies the best n (no_defenders) defenders - sorted by 'Overall' then 'Name' (both descending order)\n",
    "* From a certain country (country)\n",
    "* Under a certain age (max_age)\n",
    "\n",
    "Your function must return a `list` of `strings`"
   ]
  },
  {
   "cell_type": "code",
   "execution_count": 99,
   "metadata": {
    "deletable": false,
    "nbgrader": {
     "checksum": "b99d63e7f1b8ad8c921c6edf51cbd0a6",
     "grade": false,
     "grade_id": "cell-e42f9c758e90cb60",
     "locked": false,
     "schema_version": 1,
     "solution": true
    }
   },
   "outputs": [],
   "source": [
    "### START FUNCTION 7\n",
    "\n",
    "def best_team_1(country, no_defenders, max_age):\n",
    "    \n",
    "    df_Defender = df[df['Preferred Positions Type'] == 'Back'].sort_values(by=['Overall', 'Name'], ascending=False)\n",
    "    df_Country = df_Defender[df_Defender['Nationality'] == country]\n",
    "    df_Age = df_Country[df_Country['Age'] < max_age]\n",
    "    df_Rank = df_Age.head(no_defenders)\n",
    "    \n",
    "    players = []\n",
    "    \n",
    "    for i in df_Rank.index:\n",
    "        players.append(i)\n",
    "    \n",
    "    return players\n",
    "    \n",
    "### END FUNCTION 7"
   ]
  },
  {
   "cell_type": "code",
   "execution_count": 100,
   "metadata": {
    "deletable": false,
    "editable": false,
    "nbgrader": {
     "checksum": "8a91fcd51c353dc15fdd9a9f4a101ca0",
     "grade": true,
     "grade_id": "cell-989323d5bb30576d",
     "locked": true,
     "points": 1,
     "schema_version": 1,
     "solution": false
    }
   },
   "outputs": [
    {
     "data": {
      "text/plain": [
       "['K. Walker', 'N. Clyne', 'E. Dier']"
      ]
     },
     "execution_count": 100,
     "metadata": {},
     "output_type": "execute_result"
    }
   ],
   "source": [
    "best_team_1('England', 3, 30)"
   ]
  },
  {
   "cell_type": "markdown",
   "metadata": {},
   "source": [
    "## Function 8\n",
    "\n",
    "Build an algorithm that identifies the best n (no_attackers) attackers - sorted by 'Overall' then 'Name' (both descending order)\n",
    "* From a certain country (country)\n",
    "* With a specified attribute (attribute name) above a threshold (min_attribute_score)\n",
    "\n",
    "Your function must return a `list` of `strings`"
   ]
  },
  {
   "cell_type": "code",
   "execution_count": 101,
   "metadata": {
    "deletable": false,
    "nbgrader": {
     "checksum": "ae11f2d63f3bd31eaeed633be44730b1",
     "grade": false,
     "grade_id": "cell-35660435ef5cc2c1",
     "locked": false,
     "schema_version": 1,
     "solution": true
    }
   },
   "outputs": [],
   "source": [
    "### START FUNCTION 8\n",
    "\n",
    "def best_team_2(country, no_attackers, attribute_name, min_attribute_score):\n",
    "    \n",
    "    df_Attacker = df[df['Preferred Positions Type'] == 'Forward'].sort_values(by=['Overall', 'Name'], ascending=False)\n",
    "    df_Country = df_Attacker[df_Attacker['Nationality'] == country]\n",
    "    df_Age = df_Country[df_Country[attribute_name] > min_attribute_score]\n",
    "    df_Rank = df_Age.head(no_attackers)\n",
    "    \n",
    "    players = []\n",
    "    \n",
    "    for i in df_Rank.index:\n",
    "        players.append(i)\n",
    "    \n",
    "    return players\n",
    "    \n",
    "### END FUNCTION 8"
   ]
  },
  {
   "cell_type": "code",
   "execution_count": 102,
   "metadata": {
    "deletable": false,
    "editable": false,
    "nbgrader": {
     "checksum": "639bd6d33acadce578c5085b65d0fd65",
     "grade": true,
     "grade_id": "cell-c62482d685c0c333",
     "locked": true,
     "points": 1,
     "schema_version": 1,
     "solution": false
    }
   },
   "outputs": [
    {
     "data": {
      "text/plain": [
       "['H. Kane', 'R. Sterling', 'D. Sturridge']"
      ]
     },
     "execution_count": 102,
     "metadata": {},
     "output_type": "execute_result"
    }
   ],
   "source": [
    "best_team_2('England', 3, 'Finishing', 60)"
   ]
  },
  {
   "cell_type": "markdown",
   "metadata": {},
   "source": [
    "## Function 9\n",
    "\n",
    "Build an algorithm that identifies the best team based on the team structure (no_attackers, no_defenders, no_midfielders, no_goalkeepers) - sorted by 'Overall' then 'Name' (both descending order)\n",
    "* From a certain country (country)\n",
    "\n",
    "Your function must return a `list` of `strings`"
   ]
  },
  {
   "cell_type": "code",
   "execution_count": 103,
   "metadata": {
    "deletable": false,
    "nbgrader": {
     "checksum": "26a6e78389c6d34f36ace498c9dd80d5",
     "grade": false,
     "grade_id": "cell-805fda04d2b4d41d",
     "locked": false,
     "schema_version": 1,
     "solution": true
    }
   },
   "outputs": [],
   "source": [
    "### START FUNCTION 9\n",
    "\n",
    "def best_team_3(country, no_attackers, no_defenders, no_midfielders, no_goalkeepers):\n",
    "    \n",
    "    df_Country = df[df['Nationality'] == country].sort_values(by=['Overall', 'Name'], ascending=False) \n",
    "    \n",
    "    df_Attacker = df_Country[df_Country['Preferred Positions Type'] == 'Forward'].head(no_attackers)\n",
    "    df_Defender = df_Country[df_Country['Preferred Positions Type'] == 'Back'].head(no_defenders)\n",
    "    df_Midfielder = df_Country[df_Country['Preferred Positions Type'] == 'Midfielder'].head(no_midfielders)\n",
    "    df_Goalkeeper = df_Country[df_Country['Preferred Positions Type'] == 'GoalKeeper'].head(no_goalkeepers)\n",
    "    \n",
    "    players = []\n",
    "    \n",
    "    for i in df_Attacker.index:\n",
    "        players.append(i)\n",
    "    \n",
    "    for i in df_Defender.index:\n",
    "        players.append(i)\n",
    "    \n",
    "    for i in df_Midfielder.index:\n",
    "        players.append(i)\n",
    "    \n",
    "    for i in df_Goalkeeper.index:\n",
    "        players.append(i)\n",
    "    \n",
    "    return players\n",
    "    \n",
    "### END FUNCTION 9"
   ]
  },
  {
   "cell_type": "code",
   "execution_count": 104,
   "metadata": {
    "deletable": false,
    "editable": false,
    "nbgrader": {
     "checksum": "198559e87d5059dc8212bab714ac78bf",
     "grade": true,
     "grade_id": "cell-1ef9940c851b0e14",
     "locked": true,
     "points": 1,
     "schema_version": 1,
     "solution": false
    }
   },
   "outputs": [
    {
     "data": {
      "text/plain": [
       "['H. Kane',\n",
       " 'R. Sterling',\n",
       " 'D. Sturridge',\n",
       " 'G. Cahill',\n",
       " 'K. Walker',\n",
       " 'N. Clyne',\n",
       " 'L. Baines',\n",
       " 'D. Alli',\n",
       " 'A. Lallana',\n",
       " 'J. Henderson',\n",
       " 'J. Hart']"
      ]
     },
     "execution_count": 104,
     "metadata": {},
     "output_type": "execute_result"
    }
   ],
   "source": [
    "best_team_3('England', 3, 4, 3, 1)"
   ]
  },
  {
   "cell_type": "code",
   "execution_count": 105,
   "metadata": {},
   "outputs": [
    {
     "data": {
      "text/plain": [
       "['Neymar',\n",
       " 'Coutinho',\n",
       " 'Willian',\n",
       " 'Thiago Silva',\n",
       " 'Marcelo',\n",
       " 'Miranda',\n",
       " 'Casemiro',\n",
       " 'Oscar',\n",
       " 'Fabinho',\n",
       " 'Taison',\n",
       " 'Ederson']"
      ]
     },
     "execution_count": 105,
     "metadata": {},
     "output_type": "execute_result"
    }
   ],
   "source": [
    "best_team_3('Brazil', 3, 3, 4, 1)"
   ]
  },
  {
   "cell_type": "code",
   "execution_count": null,
   "metadata": {},
   "outputs": [],
   "source": []
  }
 ],
 "metadata": {
  "kernelspec": {
   "display_name": "Python 3",
   "language": "python",
   "name": "python3"
  },
  "language_info": {
   "codemirror_mode": {
    "name": "ipython",
    "version": 3
   },
   "file_extension": ".py",
   "mimetype": "text/x-python",
   "name": "python",
   "nbconvert_exporter": "python",
   "pygments_lexer": "ipython3",
   "version": "3.7.4"
  }
 },
 "nbformat": 4,
 "nbformat_minor": 2
}
