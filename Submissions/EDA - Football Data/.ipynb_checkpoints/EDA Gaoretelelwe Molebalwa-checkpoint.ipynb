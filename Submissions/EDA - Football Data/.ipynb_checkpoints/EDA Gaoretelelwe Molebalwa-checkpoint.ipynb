{
 "cells": [
  {
   "cell_type": "code",
   "execution_count": 2,
   "metadata": {},
   "outputs": [
    {
     "name": "stderr",
     "output_type": "stream",
     "text": [
      "C:\\ProgramData\\Anaconda3\\lib\\site-packages\\IPython\\core\\interactiveshell.py:3058: DtypeWarning: Columns (14,26) have mixed types. Specify dtype option on import or set low_memory=False.\n",
      "  interactivity=interactivity, compiler=compiler, result=result)\n"
     ]
    }
   ],
   "source": [
    "import pandas as pd\n",
    "\n",
    "# Load data - pass 'Name' as our index column\n",
    "load_df = pd.read_csv('football_players.csv', index_col='Name').sample(frac=1)\n",
    "\n",
    "# Create dataframe called df\n",
    "df = pd.DataFrame(load_df)"
   ]
  },
  {
   "cell_type": "code",
   "execution_count": 3,
   "metadata": {},
   "outputs": [],
   "source": [
    "def position_type(s):\n",
    "    \n",
    "    \"\"\"This function converts the individual positions (abbreviations) and classfies it\n",
    "    as either a forward, midfielder, back or goal keeper\"\"\"\n",
    "    \n",
    "    if (s[-2] == 'T') | (s[-2] == 'W'):\n",
    "        return 'Forward'\n",
    "    elif s[-2] == 'M':\n",
    "        return 'Midfielder'\n",
    "    elif s[-2] == 'B':\n",
    "        return 'Back'\n",
    "    else:\n",
    "        return 'GoalKeeper'\n",
    "\n",
    "# Create position type column\n",
    "df['Preferred Positions Type'] = df['Preferred Positions'].apply(position_type)"
   ]
  },
  {
   "cell_type": "code",
   "execution_count": 4,
   "metadata": {},
   "outputs": [],
   "source": [
    "# Select all attribute columns\n",
    "cols = ['Overall', 'Acceleration', 'Aggression',\n",
    "       'Agility', 'Balance', 'Ball control', 'Composure', 'Crossing', 'Curve',\n",
    "       'Dribbling', 'Finishing', 'Free kick accuracy', 'GK diving',\n",
    "       'GK handling', 'GK kicking', 'GK positioning', 'GK reflexes',\n",
    "       'Heading accuracy', 'Interceptions', 'Jumping', 'Long passing',\n",
    "       'Long shots', 'Marking', 'Penalties', 'Positioning', 'Reactions',\n",
    "       'Short passing', 'Shot power', 'Sliding tackle', 'Sprint speed',\n",
    "       'Stamina', 'Standing tackle', 'Strength', 'Vision', 'Volleys']\n",
    "\n",
    "def to_float(x):    \n",
    "    \"Transforms attribute columns to type float\"\n",
    "    \n",
    "    if type(x) is int:\n",
    "        return float(x)\n",
    "    else:\n",
    "        return float(x[0:2])\n",
    "\n",
    "df[cols] = df[cols].applymap(to_float)"
   ]
  },
  {
   "cell_type": "code",
   "execution_count": 5,
   "metadata": {},
   "outputs": [],
   "source": [
    "def best_players(country, player_position_type, no_players, attribute_name, max_attribute_score):\n",
    "    \n",
    "    df_Defender = df[df['Preferred Positions Type'] == player_position_type].sort_values(by=['Overall', 'Name'], ascending=False)\n",
    "    df_Country = df_Defender[df_Defender['Nationality'] == country]\n",
    "    df_Age = df_Country[df_Country[attribute_name] < max_attribute_score]\n",
    "    df_Rank = df_Age.head(no_players)\n",
    "    \n",
    "    defenders = []\n",
    "    \n",
    "    for i in df_Rank.index:\n",
    "        defenders.append(i)\n",
    "    \n",
    "    return defenders"
   ]
  },
  {
   "cell_type": "code",
   "execution_count": 18,
   "metadata": {},
   "outputs": [],
   "source": [
    "def best_team(country, no_attackers, no_defenders, no_midfielders, no_goalkeepers, attribute_name, max_attribute_score):\n",
    "    \n",
    "    df_Country = df[df['Nationality'] == country].sort_values(by=['Overall', 'Name'], ascending=False) \n",
    "    \n",
    "    df_Attacker = best_players(country, 'Forward', no_attackers, attribute_name, max_attribute_score)\n",
    "    df_Defender = best_players(country, 'Back', no_defenders, attribute_name, max_attribute_score)\n",
    "    df_Midfielder = best_players(country, 'Midfielder', no_midfielders, attribute_name, max_attribute_score)\n",
    "    df_Goalkeeper = best_players(country, 'GoalKeeper', no_goalkeepers, attribute_name, max_attribute_score)\n",
    "    \n",
    "    players = []\n",
    "    \n",
    "    for i in df_Attacker:\n",
    "        players.append(i)\n",
    "    \n",
    "    for i in df_Defender:\n",
    "        players.append(i)\n",
    "    \n",
    "    for i in df_Midfielder:\n",
    "        players.append(i)\n",
    "    \n",
    "    for i in df_Goalkeeper:\n",
    "        players.append(i)\n",
    "    \n",
    "    return players"
   ]
  },
  {
   "cell_type": "code",
   "execution_count": 12,
   "metadata": {},
   "outputs": [
    {
     "data": {
      "text/plain": [
       "['Neymar', 'Coutinho', 'Willian', 'Roberto Firmino', 'Jonas']"
      ]
     },
     "execution_count": 12,
     "metadata": {},
     "output_type": "execute_result"
    }
   ],
   "source": [
    "best_players('Brazil', 'Forward', 5, 'Age', 35)"
   ]
  },
  {
   "cell_type": "code",
   "execution_count": 13,
   "metadata": {},
   "outputs": [
    {
     "data": {
      "text/plain": [
       "['Thiago Silva', 'Marcelo', 'Miranda', 'David Luiz', 'Alex Sandro']"
      ]
     },
     "execution_count": 13,
     "metadata": {},
     "output_type": "execute_result"
    }
   ],
   "source": [
    "best_players('Brazil', 'Back', 5, 'Age', 35)"
   ]
  },
  {
   "cell_type": "code",
   "execution_count": 14,
   "metadata": {},
   "outputs": [
    {
     "data": {
      "text/plain": [
       "['Casemiro', 'Oscar', 'Fabinho', 'Taison', 'Marlos']"
      ]
     },
     "execution_count": 14,
     "metadata": {},
     "output_type": "execute_result"
    }
   ],
   "source": [
    "best_players('Brazil', 'Midfielder', 5, 'Age', 35)"
   ]
  },
  {
   "cell_type": "code",
   "execution_count": 15,
   "metadata": {},
   "outputs": [
    {
     "data": {
      "text/plain": [
       "['Ederson', 'Raffael', 'Neto', 'Alisson', 'Tiago Volpi']"
      ]
     },
     "execution_count": 15,
     "metadata": {},
     "output_type": "execute_result"
    }
   ],
   "source": [
    "best_players('Brazil', 'GoalKeeper', 5, 'Age', 35)"
   ]
  },
  {
   "cell_type": "code",
   "execution_count": 20,
   "metadata": {},
   "outputs": [
    {
     "data": {
      "text/plain": [
       "['Neymar',\n",
       " 'Coutinho',\n",
       " 'Willian',\n",
       " 'Thiago Silva',\n",
       " 'Marcelo',\n",
       " 'Miranda',\n",
       " 'David Luiz',\n",
       " 'Casemiro',\n",
       " 'Oscar',\n",
       " 'Fabinho',\n",
       " 'Ederson']"
      ]
     },
     "execution_count": 20,
     "metadata": {},
     "output_type": "execute_result"
    }
   ],
   "source": [
    "best_team('Brazil', 3, 4, 3, 1, 'Age', 35)"
   ]
  },
  {
   "cell_type": "code",
   "execution_count": 21,
   "metadata": {},
   "outputs": [
    {
     "data": {
      "text/plain": [
       "['A. Musa',\n",
       " 'K. Iheanacho',\n",
       " 'I. Ezekiel',\n",
       " 'V. Moses',\n",
       " 'L. Balogun',\n",
       " 'K. Omeruo',\n",
       " 'W. Troost-Ekong',\n",
       " 'O. Ndidi',\n",
       " 'M. Agu',\n",
       " 'H. Onyekuru',\n",
       " 'M. Simon']"
      ]
     },
     "execution_count": 21,
     "metadata": {},
     "output_type": "execute_result"
    }
   ],
   "source": [
    "best_team('Nigeria', 3, 4, 3, 1, 'Age', 30)"
   ]
  },
  {
   "cell_type": "code",
   "execution_count": 26,
   "metadata": {},
   "outputs": [
    {
     "data": {
      "text/plain": [
       "['P. Tau',\n",
       " 'L. Veldwijk',\n",
       " 'T. Rantie',\n",
       " 'T. Hlatshwayo',\n",
       " 'T. Matlaba',\n",
       " 'E. Mathoho',\n",
       " 'T. Masilela',\n",
       " 'S. Tshabalala',\n",
       " 'B. Zungu',\n",
       " 'T. Serero',\n",
       " 'I. Khune']"
      ]
     },
     "execution_count": 26,
     "metadata": {},
     "output_type": "execute_result"
    }
   ],
   "source": [
    "best_team('South Africa', 3, 4, 3, 1, 'Age', 40)"
   ]
  },
  {
   "cell_type": "code",
   "execution_count": null,
   "metadata": {},
   "outputs": [],
   "source": []
  }
 ],
 "metadata": {
  "kernelspec": {
   "display_name": "Python 3",
   "language": "python",
   "name": "python3"
  }
 },
 "nbformat": 4,
 "nbformat_minor": 2
}
