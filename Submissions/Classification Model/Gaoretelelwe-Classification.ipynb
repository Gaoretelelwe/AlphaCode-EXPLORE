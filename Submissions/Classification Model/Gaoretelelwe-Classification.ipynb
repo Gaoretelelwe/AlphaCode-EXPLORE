{
 "cells": [
  {
   "cell_type": "code",
   "execution_count": 26,
   "metadata": {},
   "outputs": [
    {
     "name": "stderr",
     "output_type": "stream",
     "text": [
      "UsageError: Line magic function `%` not found.\n"
     ]
    }
   ],
   "source": [
    "import numpy as np\n",
    "import pandas as pd\n",
    "import matplotlib.pyplot as plt\n",
    "import seaborn as sns\n",
    "from sqlalchemy import create_engine\n",
    "% matplotlib inline"
   ]
  },
  {
   "cell_type": "code",
   "execution_count": 132,
   "metadata": {},
   "outputs": [
    {
     "data": {
      "text/html": [
       "<div>\n",
       "<style scoped>\n",
       "    .dataframe tbody tr th:only-of-type {\n",
       "        vertical-align: middle;\n",
       "    }\n",
       "\n",
       "    .dataframe tbody tr th {\n",
       "        vertical-align: top;\n",
       "    }\n",
       "\n",
       "    .dataframe thead th {\n",
       "        text-align: right;\n",
       "    }\n",
       "</style>\n",
       "<table border=\"1\" class=\"dataframe\">\n",
       "  <thead>\n",
       "    <tr style=\"text-align: right;\">\n",
       "      <th></th>\n",
       "      <th>age</th>\n",
       "      <th>sex</th>\n",
       "      <th>bmi</th>\n",
       "      <th>steps</th>\n",
       "      <th>children</th>\n",
       "      <th>smoker</th>\n",
       "      <th>region</th>\n",
       "    </tr>\n",
       "  </thead>\n",
       "  <tbody>\n",
       "    <tr>\n",
       "      <td>0</td>\n",
       "      <td>19</td>\n",
       "      <td>female</td>\n",
       "      <td>27.9</td>\n",
       "      <td>3009</td>\n",
       "      <td>0</td>\n",
       "      <td>yes</td>\n",
       "      <td>southwest</td>\n",
       "    </tr>\n",
       "    <tr>\n",
       "      <td>1</td>\n",
       "      <td>18</td>\n",
       "      <td>male</td>\n",
       "      <td>33.77</td>\n",
       "      <td>3008</td>\n",
       "      <td>1</td>\n",
       "      <td>no</td>\n",
       "      <td>southeast</td>\n",
       "    </tr>\n",
       "    <tr>\n",
       "      <td>2</td>\n",
       "      <td>28</td>\n",
       "      <td>male</td>\n",
       "      <td>33</td>\n",
       "      <td>3009</td>\n",
       "      <td>3</td>\n",
       "      <td>no</td>\n",
       "      <td>southeast</td>\n",
       "    </tr>\n",
       "    <tr>\n",
       "      <td>3</td>\n",
       "      <td>33</td>\n",
       "      <td>male</td>\n",
       "      <td>22.705</td>\n",
       "      <td>10009</td>\n",
       "      <td>0</td>\n",
       "      <td>no</td>\n",
       "      <td>northwest</td>\n",
       "    </tr>\n",
       "    <tr>\n",
       "      <td>4</td>\n",
       "      <td>32</td>\n",
       "      <td>male</td>\n",
       "      <td>28.88</td>\n",
       "      <td>8010</td>\n",
       "      <td>0</td>\n",
       "      <td>no</td>\n",
       "      <td>northwest</td>\n",
       "    </tr>\n",
       "    <tr>\n",
       "      <td>...</td>\n",
       "      <td>...</td>\n",
       "      <td>...</td>\n",
       "      <td>...</td>\n",
       "      <td>...</td>\n",
       "      <td>...</td>\n",
       "      <td>...</td>\n",
       "      <td>...</td>\n",
       "    </tr>\n",
       "    <tr>\n",
       "      <td>1633</td>\n",
       "      <td>51</td>\n",
       "      <td>male</td>\n",
       "      <td>30.97</td>\n",
       "      <td>4442</td>\n",
       "      <td>2</td>\n",
       "      <td>no</td>\n",
       "      <td>southeast</td>\n",
       "    </tr>\n",
       "    <tr>\n",
       "      <td>1634</td>\n",
       "      <td>19</td>\n",
       "      <td>male</td>\n",
       "      <td>32.92</td>\n",
       "      <td>3771</td>\n",
       "      <td>1</td>\n",
       "      <td>yes</td>\n",
       "      <td>southeast</td>\n",
       "    </tr>\n",
       "    <tr>\n",
       "      <td>1635</td>\n",
       "      <td>21</td>\n",
       "      <td>male</td>\n",
       "      <td>34.85</td>\n",
       "      <td>3199</td>\n",
       "      <td>1</td>\n",
       "      <td>yes</td>\n",
       "      <td>southwest</td>\n",
       "    </tr>\n",
       "    <tr>\n",
       "      <td>1636</td>\n",
       "      <td>23</td>\n",
       "      <td>male</td>\n",
       "      <td>25.8</td>\n",
       "      <td>7298</td>\n",
       "      <td>0</td>\n",
       "      <td>no</td>\n",
       "      <td>southeast</td>\n",
       "    </tr>\n",
       "    <tr>\n",
       "      <td>1637</td>\n",
       "      <td>66</td>\n",
       "      <td>female</td>\n",
       "      <td>29.07</td>\n",
       "      <td>8143</td>\n",
       "      <td>1</td>\n",
       "      <td>yes</td>\n",
       "      <td>northwest</td>\n",
       "    </tr>\n",
       "  </tbody>\n",
       "</table>\n",
       "<p>1638 rows × 7 columns</p>\n",
       "</div>"
      ],
      "text/plain": [
       "     age     sex     bmi  steps children smoker     region\n",
       "0     19  female    27.9   3009        0    yes  southwest\n",
       "1     18    male   33.77   3008        1     no  southeast\n",
       "2     28    male      33   3009        3     no  southeast\n",
       "3     33    male  22.705  10009        0     no  northwest\n",
       "4     32    male   28.88   8010        0     no  northwest\n",
       "...   ..     ...     ...    ...      ...    ...        ...\n",
       "1633  51    male   30.97   4442        2     no  southeast\n",
       "1634  19    male   32.92   3771        1    yes  southeast\n",
       "1635  21    male   34.85   3199        1    yes  southwest\n",
       "1636  23    male    25.8   7298        0     no  southeast\n",
       "1637  66  female   29.07   8143        1    yes  northwest\n",
       "\n",
       "[1638 rows x 7 columns]"
      ]
     },
     "execution_count": 132,
     "metadata": {},
     "output_type": "execute_result"
    }
   ],
   "source": [
    "Username = 'admin'\n",
    "Password = 'amazing_people'\n",
    "Host = 'alphacode-explore.ccwgqdqrrmvt.eu-west-1.rds.amazonaws.com'\n",
    "Port = '1433'\n",
    "Database = 'Gaoretelelwe'\n",
    "\n",
    "connection = create_engine(\n",
    "    'mssql+pymssql://' +\n",
    "    Username + ':' + Password + '@' + Host + ':' + Port + '/' + Database\n",
    ")\n",
    "\n",
    "sql_query_claims = \"Select * from claims_data\"\n",
    "sql_query_test = \"Select * from test_set\"\n",
    "\n",
    "df_claims = pd.read_sql_query(sql_query_claims, connection)\n",
    "df_test = pd.read_sql_query(sql_query_test, connection)\n",
    "\n",
    "df_claims_no_labels = df_claims.drop(['insurance_claim', 'claim_amount'], axis=1)\n",
    "df_test_no_index = df_test.drop(['row_id'], axis=1)\n",
    "\n",
    "df_combined = pd.concat([df_claims_no_labels, df_test_no_index],sort=False).reset_index(drop=True)"
   ]
  },
  {
   "cell_type": "markdown",
   "metadata": {},
   "source": [
    "# Pre-processing"
   ]
  },
  {
   "cell_type": "code",
   "execution_count": 95,
   "metadata": {},
   "outputs": [],
   "source": [
    "# Lables\n",
    "y = df_claims['insurance_claim']\n",
    "\n",
    "# Features\n",
    "X = df_claims.drop(['insurance_claim', 'claim_amount'], axis=1)\n",
    "\n",
    "# Index\n",
    "r = df_test['row_id']"
   ]
  },
  {
   "cell_type": "markdown",
   "metadata": {},
   "source": [
    "# Transforming the features"
   ]
  },
  {
   "cell_type": "code",
   "execution_count": 103,
   "metadata": {},
   "outputs": [],
   "source": [
    "combined_transformed = pd.get_dummies(df_combined, drop_first=True)\n",
    "\n",
    "# split the transformed DataFrame\n",
    "X_transformed = combined_transformed.iloc[:len(y), :]\n",
    "test_transformed = combined_transformed.iloc[len(y):, :]"
   ]
  },
  {
   "cell_type": "markdown",
   "metadata": {},
   "source": [
    "# Train/Test Split"
   ]
  },
  {
   "cell_type": "code",
   "execution_count": 104,
   "metadata": {},
   "outputs": [],
   "source": [
    "from sklearn.model_selection import train_test_split\n",
    "\n",
    "\n",
    "X_train, X_test, y_train, y_test = train_test_split(X_transformed, y, test_size=0.2, random_state=47)"
   ]
  },
  {
   "cell_type": "markdown",
   "metadata": {},
   "source": [
    "# Training"
   ]
  },
  {
   "cell_type": "code",
   "execution_count": 105,
   "metadata": {},
   "outputs": [
    {
     "name": "stderr",
     "output_type": "stream",
     "text": [
      "C:\\ProgramData\\Anaconda3\\lib\\site-packages\\sklearn\\linear_model\\logistic.py:432: FutureWarning: Default solver will be changed to 'lbfgs' in 0.22. Specify a solver to silence this warning.\n",
      "  FutureWarning)\n",
      "C:\\ProgramData\\Anaconda3\\lib\\site-packages\\sklearn\\svm\\base.py:193: FutureWarning: The default value of gamma will change from 'auto' to 'scale' in version 0.22 to account better for unscaled features. Set gamma explicitly to 'auto' or 'scale' to avoid this warning.\n",
      "  \"avoid this warning.\", FutureWarning)\n"
     ]
    },
    {
     "data": {
      "text/plain": [
       "SVC(C=1.0, cache_size=200, class_weight=None, coef0=0.0,\n",
       "    decision_function_shape='ovr', degree=3, gamma='auto_deprecated',\n",
       "    kernel='rbf', max_iter=-1, probability=False, random_state=23,\n",
       "    shrinking=True, tol=0.001, verbose=False)"
      ]
     },
     "execution_count": 105,
     "metadata": {},
     "output_type": "execute_result"
    }
   ],
   "source": [
    "#Logistic Regression\n",
    "from sklearn.linear_model import LogisticRegression\n",
    "\n",
    "lm = LogisticRegression()\n",
    "lm.fit(X_train,y_train)\n",
    "\n",
    "#K-Nearest Neighbors\n",
    "from sklearn.neighbors import KNeighborsClassifier\n",
    "\n",
    "knn = KNeighborsClassifier()\n",
    "knn.fit(X_train, y_train)\n",
    "\n",
    "#Decision Tree\n",
    "from sklearn.tree import DecisionTreeClassifier\n",
    "\n",
    "tree = DecisionTreeClassifier(random_state=50)\n",
    "tree.fit(X_train, y_train)\n",
    "\n",
    "#Random Forest\n",
    "from sklearn.ensemble import RandomForestClassifier\n",
    "\n",
    "forest = RandomForestClassifier(n_estimators=100, random_state=23)\n",
    "forest.fit(X_train, y_train)\n",
    "\n",
    "#Support Vector Machines (SVC)\n",
    "from sklearn.svm import SVC\n",
    "\n",
    "svm = SVC(random_state=23)\n",
    "svm.fit(X_train, y_train)"
   ]
  },
  {
   "cell_type": "markdown",
   "metadata": {},
   "source": [
    "# Predicting"
   ]
  },
  {
   "cell_type": "code",
   "execution_count": 106,
   "metadata": {},
   "outputs": [],
   "source": [
    "pred_lm = lm.predict(X_test)\n",
    "pred_knn = knn.predict(X_test)\n",
    "pred_tree = tree.predict(X_test)\n",
    "pred_forest = forest.predict(X_test)\n",
    "pred_svm = svm.predict(X_test)"
   ]
  },
  {
   "cell_type": "markdown",
   "metadata": {},
   "source": [
    "# Testing"
   ]
  },
  {
   "cell_type": "code",
   "execution_count": 107,
   "metadata": {},
   "outputs": [],
   "source": [
    "from sklearn.metrics import confusion_matrix\n",
    "from sklearn.metrics import classification_report\n",
    "\n",
    "labels = ['No', 'Yes']"
   ]
  },
  {
   "cell_type": "markdown",
   "metadata": {},
   "source": [
    "Confusion Matrix"
   ]
  },
  {
   "cell_type": "code",
   "execution_count": 108,
   "metadata": {},
   "outputs": [
    {
     "name": "stdout",
     "output_type": "stream",
     "text": [
      "Logistic Regression Confusion Matrix\n"
     ]
    },
    {
     "data": {
      "text/html": [
       "<div>\n",
       "<style scoped>\n",
       "    .dataframe tbody tr th:only-of-type {\n",
       "        vertical-align: middle;\n",
       "    }\n",
       "\n",
       "    .dataframe tbody tr th {\n",
       "        vertical-align: top;\n",
       "    }\n",
       "\n",
       "    .dataframe thead th {\n",
       "        text-align: right;\n",
       "    }\n",
       "</style>\n",
       "<table border=\"1\" class=\"dataframe\">\n",
       "  <thead>\n",
       "    <tr style=\"text-align: right;\">\n",
       "      <th></th>\n",
       "      <th>No</th>\n",
       "      <th>Yes</th>\n",
       "    </tr>\n",
       "  </thead>\n",
       "  <tbody>\n",
       "    <tr>\n",
       "      <td>No</td>\n",
       "      <td>80</td>\n",
       "      <td>22</td>\n",
       "    </tr>\n",
       "    <tr>\n",
       "      <td>Yes</td>\n",
       "      <td>26</td>\n",
       "      <td>140</td>\n",
       "    </tr>\n",
       "  </tbody>\n",
       "</table>\n",
       "</div>"
      ],
      "text/plain": [
       "     No  Yes\n",
       "No   80   22\n",
       "Yes  26  140"
      ]
     },
     "execution_count": 108,
     "metadata": {},
     "output_type": "execute_result"
    }
   ],
   "source": [
    "print('Logistic Regression Confusion Matrix')\n",
    "pd.DataFrame(data=confusion_matrix(y_test, pred_lm), index=labels, columns=labels)"
   ]
  },
  {
   "cell_type": "code",
   "execution_count": 109,
   "metadata": {},
   "outputs": [
    {
     "name": "stdout",
     "output_type": "stream",
     "text": [
      "K-Nearest Neighbors Confusion Matrix\n"
     ]
    },
    {
     "data": {
      "text/html": [
       "<div>\n",
       "<style scoped>\n",
       "    .dataframe tbody tr th:only-of-type {\n",
       "        vertical-align: middle;\n",
       "    }\n",
       "\n",
       "    .dataframe tbody tr th {\n",
       "        vertical-align: top;\n",
       "    }\n",
       "\n",
       "    .dataframe thead th {\n",
       "        text-align: right;\n",
       "    }\n",
       "</style>\n",
       "<table border=\"1\" class=\"dataframe\">\n",
       "  <thead>\n",
       "    <tr style=\"text-align: right;\">\n",
       "      <th></th>\n",
       "      <th>No</th>\n",
       "      <th>Yes</th>\n",
       "    </tr>\n",
       "  </thead>\n",
       "  <tbody>\n",
       "    <tr>\n",
       "      <td>No</td>\n",
       "      <td>61</td>\n",
       "      <td>41</td>\n",
       "    </tr>\n",
       "    <tr>\n",
       "      <td>Yes</td>\n",
       "      <td>25</td>\n",
       "      <td>141</td>\n",
       "    </tr>\n",
       "  </tbody>\n",
       "</table>\n",
       "</div>"
      ],
      "text/plain": [
       "     No  Yes\n",
       "No   61   41\n",
       "Yes  25  141"
      ]
     },
     "execution_count": 109,
     "metadata": {},
     "output_type": "execute_result"
    }
   ],
   "source": [
    "print('K-Nearest Neighbors Confusion Matrix')\n",
    "pd.DataFrame(data=confusion_matrix(y_test, pred_knn), index=labels, columns=labels)"
   ]
  },
  {
   "cell_type": "code",
   "execution_count": 110,
   "metadata": {},
   "outputs": [
    {
     "name": "stdout",
     "output_type": "stream",
     "text": [
      "Decision Tree Confusion Matrix\n"
     ]
    },
    {
     "data": {
      "text/html": [
       "<div>\n",
       "<style scoped>\n",
       "    .dataframe tbody tr th:only-of-type {\n",
       "        vertical-align: middle;\n",
       "    }\n",
       "\n",
       "    .dataframe tbody tr th {\n",
       "        vertical-align: top;\n",
       "    }\n",
       "\n",
       "    .dataframe thead th {\n",
       "        text-align: right;\n",
       "    }\n",
       "</style>\n",
       "<table border=\"1\" class=\"dataframe\">\n",
       "  <thead>\n",
       "    <tr style=\"text-align: right;\">\n",
       "      <th></th>\n",
       "      <th>No</th>\n",
       "      <th>Yes</th>\n",
       "    </tr>\n",
       "  </thead>\n",
       "  <tbody>\n",
       "    <tr>\n",
       "      <td>No</td>\n",
       "      <td>80</td>\n",
       "      <td>22</td>\n",
       "    </tr>\n",
       "    <tr>\n",
       "      <td>Yes</td>\n",
       "      <td>13</td>\n",
       "      <td>153</td>\n",
       "    </tr>\n",
       "  </tbody>\n",
       "</table>\n",
       "</div>"
      ],
      "text/plain": [
       "     No  Yes\n",
       "No   80   22\n",
       "Yes  13  153"
      ]
     },
     "execution_count": 110,
     "metadata": {},
     "output_type": "execute_result"
    }
   ],
   "source": [
    "print('Decision Tree Confusion Matrix')\n",
    "pd.DataFrame(data=confusion_matrix(y_test, pred_tree), index=labels, columns=labels)"
   ]
  },
  {
   "cell_type": "code",
   "execution_count": 111,
   "metadata": {},
   "outputs": [
    {
     "name": "stdout",
     "output_type": "stream",
     "text": [
      "Random Forest Confusion Matrix\n"
     ]
    },
    {
     "data": {
      "text/html": [
       "<div>\n",
       "<style scoped>\n",
       "    .dataframe tbody tr th:only-of-type {\n",
       "        vertical-align: middle;\n",
       "    }\n",
       "\n",
       "    .dataframe tbody tr th {\n",
       "        vertical-align: top;\n",
       "    }\n",
       "\n",
       "    .dataframe thead th {\n",
       "        text-align: right;\n",
       "    }\n",
       "</style>\n",
       "<table border=\"1\" class=\"dataframe\">\n",
       "  <thead>\n",
       "    <tr style=\"text-align: right;\">\n",
       "      <th></th>\n",
       "      <th>No</th>\n",
       "      <th>Yes</th>\n",
       "    </tr>\n",
       "  </thead>\n",
       "  <tbody>\n",
       "    <tr>\n",
       "      <td>No</td>\n",
       "      <td>77</td>\n",
       "      <td>25</td>\n",
       "    </tr>\n",
       "    <tr>\n",
       "      <td>Yes</td>\n",
       "      <td>16</td>\n",
       "      <td>150</td>\n",
       "    </tr>\n",
       "  </tbody>\n",
       "</table>\n",
       "</div>"
      ],
      "text/plain": [
       "     No  Yes\n",
       "No   77   25\n",
       "Yes  16  150"
      ]
     },
     "execution_count": 111,
     "metadata": {},
     "output_type": "execute_result"
    }
   ],
   "source": [
    "print('Random Forest Confusion Matrix')\n",
    "pd.DataFrame(data=confusion_matrix(y_test, pred_forest), index=labels, columns=labels)"
   ]
  },
  {
   "cell_type": "code",
   "execution_count": 112,
   "metadata": {},
   "outputs": [
    {
     "name": "stdout",
     "output_type": "stream",
     "text": [
      "Support Vector Machine Confusion Matrix\n"
     ]
    },
    {
     "data": {
      "text/html": [
       "<div>\n",
       "<style scoped>\n",
       "    .dataframe tbody tr th:only-of-type {\n",
       "        vertical-align: middle;\n",
       "    }\n",
       "\n",
       "    .dataframe tbody tr th {\n",
       "        vertical-align: top;\n",
       "    }\n",
       "\n",
       "    .dataframe thead th {\n",
       "        text-align: right;\n",
       "    }\n",
       "</style>\n",
       "<table border=\"1\" class=\"dataframe\">\n",
       "  <thead>\n",
       "    <tr style=\"text-align: right;\">\n",
       "      <th></th>\n",
       "      <th>No</th>\n",
       "      <th>Yes</th>\n",
       "    </tr>\n",
       "  </thead>\n",
       "  <tbody>\n",
       "    <tr>\n",
       "      <td>No</td>\n",
       "      <td>0</td>\n",
       "      <td>102</td>\n",
       "    </tr>\n",
       "    <tr>\n",
       "      <td>Yes</td>\n",
       "      <td>0</td>\n",
       "      <td>166</td>\n",
       "    </tr>\n",
       "  </tbody>\n",
       "</table>\n",
       "</div>"
      ],
      "text/plain": [
       "     No  Yes\n",
       "No    0  102\n",
       "Yes   0  166"
      ]
     },
     "execution_count": 112,
     "metadata": {},
     "output_type": "execute_result"
    }
   ],
   "source": [
    "print('Support Vector Machine Confusion Matrix')\n",
    "pd.DataFrame(data=confusion_matrix(y_test, pred_svm), index=labels, columns=labels)"
   ]
  },
  {
   "cell_type": "markdown",
   "metadata": {},
   "source": [
    "Classification Report"
   ]
  },
  {
   "cell_type": "code",
   "execution_count": 113,
   "metadata": {},
   "outputs": [],
   "source": [
    "from sklearn.metrics import classification_report"
   ]
  },
  {
   "cell_type": "code",
   "execution_count": 114,
   "metadata": {},
   "outputs": [
    {
     "name": "stdout",
     "output_type": "stream",
     "text": [
      "Logistic Regression - Classification Report\n",
      "              precision    recall  f1-score   support\n",
      "\n",
      "          No       0.75      0.78      0.77       102\n",
      "         Yes       0.86      0.84      0.85       166\n",
      "\n",
      "    accuracy                           0.82       268\n",
      "   macro avg       0.81      0.81      0.81       268\n",
      "weighted avg       0.82      0.82      0.82       268\n",
      "\n"
     ]
    }
   ],
   "source": [
    "print('Logistic Regression - Classification Report')\n",
    "print(classification_report(y_test, pred_lm, target_names=['No', 'Yes']))"
   ]
  },
  {
   "cell_type": "code",
   "execution_count": 115,
   "metadata": {},
   "outputs": [
    {
     "name": "stdout",
     "output_type": "stream",
     "text": [
      "K-Nearest Neighbor - Classification Report\n",
      "              precision    recall  f1-score   support\n",
      "\n",
      "          No       0.71      0.60      0.65       102\n",
      "         Yes       0.77      0.85      0.81       166\n",
      "\n",
      "    accuracy                           0.75       268\n",
      "   macro avg       0.74      0.72      0.73       268\n",
      "weighted avg       0.75      0.75      0.75       268\n",
      "\n"
     ]
    }
   ],
   "source": [
    "print('K-Nearest Neighbor - Classification Report')\n",
    "print(classification_report(y_test, pred_knn, target_names=['No', 'Yes']))"
   ]
  },
  {
   "cell_type": "code",
   "execution_count": 116,
   "metadata": {},
   "outputs": [
    {
     "name": "stdout",
     "output_type": "stream",
     "text": [
      "Decision Tree - Classification Report\n",
      "              precision    recall  f1-score   support\n",
      "\n",
      "          No       0.86      0.78      0.82       102\n",
      "         Yes       0.87      0.92      0.90       166\n",
      "\n",
      "    accuracy                           0.87       268\n",
      "   macro avg       0.87      0.85      0.86       268\n",
      "weighted avg       0.87      0.87      0.87       268\n",
      "\n"
     ]
    }
   ],
   "source": [
    "print('Decision Tree - Classification Report')\n",
    "print(classification_report(y_test, pred_tree, target_names=['No', 'Yes']))"
   ]
  },
  {
   "cell_type": "code",
   "execution_count": 117,
   "metadata": {},
   "outputs": [
    {
     "name": "stdout",
     "output_type": "stream",
     "text": [
      "Random Forest - Classification Report\n",
      "              precision    recall  f1-score   support\n",
      "\n",
      "          No       0.83      0.75      0.79       102\n",
      "         Yes       0.86      0.90      0.88       166\n",
      "\n",
      "    accuracy                           0.85       268\n",
      "   macro avg       0.84      0.83      0.83       268\n",
      "weighted avg       0.85      0.85      0.85       268\n",
      "\n"
     ]
    }
   ],
   "source": [
    "print('Random Forest - Classification Report')\n",
    "print(classification_report(y_test, pred_forest, target_names=['No', 'Yes']))"
   ]
  },
  {
   "cell_type": "code",
   "execution_count": 118,
   "metadata": {},
   "outputs": [
    {
     "name": "stdout",
     "output_type": "stream",
     "text": [
      "SVM - Classification Report\n",
      "              precision    recall  f1-score   support\n",
      "\n",
      "          No       0.00      0.00      0.00       102\n",
      "         Yes       0.62      1.00      0.76       166\n",
      "\n",
      "    accuracy                           0.62       268\n",
      "   macro avg       0.31      0.50      0.38       268\n",
      "weighted avg       0.38      0.62      0.47       268\n",
      "\n"
     ]
    },
    {
     "name": "stderr",
     "output_type": "stream",
     "text": [
      "C:\\ProgramData\\Anaconda3\\lib\\site-packages\\sklearn\\metrics\\classification.py:1437: UndefinedMetricWarning: Precision and F-score are ill-defined and being set to 0.0 in labels with no predicted samples.\n",
      "  'precision', 'predicted', average, warn_for)\n"
     ]
    }
   ],
   "source": [
    "print('SVM - Classification Report')\n",
    "print(classification_report(y_test, pred_svm, target_names=['No', 'Yes']))"
   ]
  },
  {
   "cell_type": "markdown",
   "metadata": {},
   "source": [
    "# Tuning"
   ]
  },
  {
   "cell_type": "markdown",
   "metadata": {},
   "source": [
    "Tuning KNN"
   ]
  },
  {
   "cell_type": "code",
   "execution_count": 119,
   "metadata": {},
   "outputs": [
    {
     "name": "stdout",
     "output_type": "stream",
     "text": [
      "k=3\n",
      "     No  Yes\n",
      "No   57   45\n",
      "Yes  27  139\n",
      "\n",
      "\n",
      "k=5\n",
      "     No  Yes\n",
      "No   61   41\n",
      "Yes  25  141\n",
      "\n",
      "\n",
      "k=20\n",
      "     No  Yes\n",
      "No   78   24\n",
      "Yes  30  136\n",
      "\n",
      "\n",
      "k=25\n",
      "     No  Yes\n",
      "No   70   32\n",
      "Yes  17  149\n",
      "\n",
      "\n",
      "k=3\n",
      "              precision    recall  f1-score   support\n",
      "\n",
      "          No       0.68      0.56      0.61       102\n",
      "         Yes       0.76      0.84      0.79       166\n",
      "\n",
      "    accuracy                           0.73       268\n",
      "   macro avg       0.72      0.70      0.70       268\n",
      "weighted avg       0.73      0.73      0.73       268\n",
      "\n",
      "\n",
      "\n",
      "k=5\n",
      "              precision    recall  f1-score   support\n",
      "\n",
      "          No       0.71      0.60      0.65       102\n",
      "         Yes       0.77      0.85      0.81       166\n",
      "\n",
      "    accuracy                           0.75       268\n",
      "   macro avg       0.74      0.72      0.73       268\n",
      "weighted avg       0.75      0.75      0.75       268\n",
      "\n",
      "\n",
      "\n",
      "k=20\n",
      "              precision    recall  f1-score   support\n",
      "\n",
      "          No       0.72      0.76      0.74       102\n",
      "         Yes       0.85      0.82      0.83       166\n",
      "\n",
      "    accuracy                           0.80       268\n",
      "   macro avg       0.79      0.79      0.79       268\n",
      "weighted avg       0.80      0.80      0.80       268\n",
      "\n",
      "\n",
      "\n",
      "k=25\n",
      "              precision    recall  f1-score   support\n",
      "\n",
      "          No       0.80      0.69      0.74       102\n",
      "         Yes       0.82      0.90      0.86       166\n",
      "\n",
      "    accuracy                           0.82       268\n",
      "   macro avg       0.81      0.79      0.80       268\n",
      "weighted avg       0.82      0.82      0.81       268\n",
      "\n",
      "\n",
      "\n"
     ]
    }
   ],
   "source": [
    "knn_3 = KNeighborsClassifier(n_neighbors=3)\n",
    "knn_5 = KNeighborsClassifier(n_neighbors=5)\n",
    "knn_20 = KNeighborsClassifier(n_neighbors=20)\n",
    "knn_25 = KNeighborsClassifier(n_neighbors=25)\n",
    "\n",
    "knn_3.fit(X_train, y_train)\n",
    "knn_5.fit(X_train, y_train)\n",
    "knn_20.fit(X_train, y_train)\n",
    "knn_25.fit(X_train, y_train)\n",
    "\n",
    "pred_knn_3 = knn_3.predict(X_test)\n",
    "pred_knn_5 = knn_5.predict(X_test)\n",
    "pred_knn_20 = knn_20.predict(X_test)\n",
    "pred_knn_25 = knn_25.predict(X_test)\n",
    "\n",
    "labels = ['No', 'Yes']\n",
    "\n",
    "pred = {'k=3':pred_knn_3, 'k=5':pred_knn_5, 'k=20':pred_knn_20, 'k=25':pred_knn_25}\n",
    "\n",
    "for k,v in pred.items():\n",
    "    print('{}'.format(k))\n",
    "    print(pd.DataFrame(data=confusion_matrix(y_test, v), index=labels, columns=labels))\n",
    "    print('\\n')\n",
    "    \n",
    "pred = {'k=3':pred_knn_3, 'k=5':pred_knn_5, 'k=20':pred_knn_20, 'k=25':pred_knn_25}\n",
    "\n",
    "for k,v in pred.items():\n",
    "    print('{}'.format(k))\n",
    "    print(classification_report(y_test, v, target_names=['No', 'Yes']))\n",
    "    print('\\n')"
   ]
  },
  {
   "cell_type": "markdown",
   "metadata": {},
   "source": [
    "Tuning Decision Tree"
   ]
  },
  {
   "cell_type": "code",
   "execution_count": 120,
   "metadata": {},
   "outputs": [
    {
     "name": "stdout",
     "output_type": "stream",
     "text": [
      "max_depth=5; min_samples_leaf=5\n",
      "     No  Yes\n",
      "No   19   83\n",
      "Yes   6  160\n",
      "\n",
      "\n",
      "max_depth=2; min_samples_leaf=5\n",
      "     No  Yes\n",
      "No   19   83\n",
      "Yes   6  160\n",
      "\n",
      "\n",
      "max_depth=5; min_samples_leaf=4\n",
      "     No  Yes\n",
      "No   78   24\n",
      "Yes  34  132\n",
      "\n",
      "\n",
      "max_depth=7; min_samples_leaf=3\n",
      "     No  Yes\n",
      "No   53   49\n",
      "Yes  18  148\n",
      "\n",
      "\n",
      "max_depth=5; min_samples_leaf=5\n",
      "              precision    recall  f1-score   support\n",
      "\n",
      "          No       0.76      0.19      0.30       102\n",
      "         Yes       0.66      0.96      0.78       166\n",
      "\n",
      "    accuracy                           0.67       268\n",
      "   macro avg       0.71      0.58      0.54       268\n",
      "weighted avg       0.70      0.67      0.60       268\n",
      "\n",
      "\n",
      "\n",
      "max_depth=2; min_samples_leaf=5\n",
      "              precision    recall  f1-score   support\n",
      "\n",
      "          No       0.76      0.19      0.30       102\n",
      "         Yes       0.66      0.96      0.78       166\n",
      "\n",
      "    accuracy                           0.67       268\n",
      "   macro avg       0.71      0.58      0.54       268\n",
      "weighted avg       0.70      0.67      0.60       268\n",
      "\n",
      "\n",
      "\n",
      "max_depth=5; min_samples_leaf=4\n",
      "              precision    recall  f1-score   support\n",
      "\n",
      "          No       0.70      0.76      0.73       102\n",
      "         Yes       0.85      0.80      0.82       166\n",
      "\n",
      "    accuracy                           0.78       268\n",
      "   macro avg       0.77      0.78      0.77       268\n",
      "weighted avg       0.79      0.78      0.79       268\n",
      "\n",
      "\n",
      "\n",
      "max_depth=7; min_samples_leaf=3\n",
      "              precision    recall  f1-score   support\n",
      "\n",
      "          No       0.75      0.52      0.61       102\n",
      "         Yes       0.75      0.89      0.82       166\n",
      "\n",
      "    accuracy                           0.75       268\n",
      "   macro avg       0.75      0.71      0.71       268\n",
      "weighted avg       0.75      0.75      0.74       268\n",
      "\n",
      "\n",
      "\n"
     ]
    }
   ],
   "source": [
    "# max_depth=5 and min_samples_leaf=5\n",
    "tree_0 = DecisionTreeClassifier(max_depth=5, min_samples_leaf=5, random_state=50)\n",
    "\n",
    "# max_depth=2 and min_samples_leaf=5\n",
    "tree_1 = DecisionTreeClassifier(max_depth=2, min_samples_leaf=5, random_state=50)\n",
    "\n",
    "# max_depth=5 and min_samples_leaf=4\n",
    "tree_2 = DecisionTreeClassifier(max_depth=5, min_samples_leaf=4, random_state=50)\n",
    "\n",
    "# max_depth=7 and min_samples_leaf=3\n",
    "tree_3 = DecisionTreeClassifier(max_depth=7, min_samples_leaf=3, random_state=50)\n",
    "\n",
    "tree_0.fit(X_train, y_train)\n",
    "tree_1.fit(X_train, y_train)\n",
    "tree_2.fit(X_train, y_train)\n",
    "tree_3.fit(X_train, y_train)\n",
    "\n",
    "pred_tree_0 = tree_1.predict(X_test)\n",
    "pred_tree_1 = tree_1.predict(X_test)\n",
    "pred_tree_2 = tree_2.predict(X_test)\n",
    "pred_tree_3 = tree_3.predict(X_test)\n",
    "\n",
    "pred = {'max_depth=5; min_samples_leaf=5':pred_tree_0, \n",
    "        'max_depth=2; min_samples_leaf=5':pred_tree_1, \n",
    "        'max_depth=5; min_samples_leaf=4':pred_tree_2, \n",
    "        'max_depth=7; min_samples_leaf=3':pred_tree_3}\n",
    "\n",
    "for k,v in pred.items():\n",
    "    print('{}'.format(k))\n",
    "    print(pd.DataFrame(data=confusion_matrix(y_test, v), index=labels, columns=labels))\n",
    "    print('\\n')\n",
    "\n",
    "pred = {'max_depth=5; min_samples_leaf=5':pred_tree_0, \n",
    "        'max_depth=2; min_samples_leaf=5':pred_tree_1, \n",
    "        'max_depth=5; min_samples_leaf=4':pred_tree_2, \n",
    "        'max_depth=7; min_samples_leaf=3':pred_tree_3}\n",
    "\n",
    "for k,v in pred.items():\n",
    "    print('{}'.format(k))\n",
    "    print(classification_report(y_test, v, target_names=['No', 'Yes']))\n",
    "    print('\\n')"
   ]
  },
  {
   "cell_type": "markdown",
   "metadata": {},
   "source": [
    "Tuning Random Forest"
   ]
  },
  {
   "cell_type": "code",
   "execution_count": 121,
   "metadata": {},
   "outputs": [
    {
     "name": "stdout",
     "output_type": "stream",
     "text": [
      "trees = 5\n",
      "     No  Yes\n",
      "No   70   32\n",
      "Yes  25  141\n",
      "\n",
      "\n",
      "trees = 20\n",
      "     No  Yes\n",
      "No   79   23\n",
      "Yes  23  143\n",
      "\n",
      "\n",
      "trees = 100\n",
      "     No  Yes\n",
      "No   77   25\n",
      "Yes  16  150\n",
      "\n",
      "\n",
      "trees = 5\n",
      "              precision    recall  f1-score   support\n",
      "\n",
      "          No       0.74      0.69      0.71       102\n",
      "         Yes       0.82      0.85      0.83       166\n",
      "\n",
      "    accuracy                           0.79       268\n",
      "   macro avg       0.78      0.77      0.77       268\n",
      "weighted avg       0.79      0.79      0.79       268\n",
      "\n",
      "\n",
      "\n",
      "trees = 20\n",
      "              precision    recall  f1-score   support\n",
      "\n",
      "          No       0.77      0.77      0.77       102\n",
      "         Yes       0.86      0.86      0.86       166\n",
      "\n",
      "    accuracy                           0.83       268\n",
      "   macro avg       0.82      0.82      0.82       268\n",
      "weighted avg       0.83      0.83      0.83       268\n",
      "\n",
      "\n",
      "\n",
      "trees = 100\n",
      "              precision    recall  f1-score   support\n",
      "\n",
      "          No       0.83      0.75      0.79       102\n",
      "         Yes       0.86      0.90      0.88       166\n",
      "\n",
      "    accuracy                           0.85       268\n",
      "   macro avg       0.84      0.83      0.83       268\n",
      "weighted avg       0.85      0.85      0.85       268\n",
      "\n",
      "\n",
      "\n"
     ]
    }
   ],
   "source": [
    "# 5 trees in forest\n",
    "forest_1 = RandomForestClassifier(n_estimators=5, random_state=23)\n",
    "\n",
    "# 20 trees in forest\n",
    "forest_2 = RandomForestClassifier(n_estimators=20, random_state=23)\n",
    "\n",
    "# 100 trees in forest\n",
    "forest_3 = RandomForestClassifier(n_estimators=100, random_state=23)\n",
    "\n",
    "forest_1.fit(X_train, y_train)\n",
    "forest_2.fit(X_train, y_train)\n",
    "forest_3.fit(X_train, y_train)\n",
    "\n",
    "pred_forest_1 = forest_1.predict(X_test)\n",
    "pred_forest_2 = forest_2.predict(X_test)\n",
    "pred_forest_3 = forest_3.predict(X_test)\n",
    "\n",
    "labels = ['No', 'Yes']\n",
    "\n",
    "pred = {'trees = 5':pred_forest_1, \n",
    "        'trees = 20':pred_forest_2, \n",
    "        'trees = 100':pred_forest_3}\n",
    "\n",
    "for k,v in pred.items():\n",
    "    print('{}'.format(k))\n",
    "    print(pd.DataFrame(data=confusion_matrix(y_test, v), index=labels, columns=labels))\n",
    "    print('\\n')\n",
    "\n",
    "pred = {'trees = 5':pred_forest_1, \n",
    "        'trees = 20':pred_forest_2, \n",
    "        'trees = 100':pred_forest_3}\n",
    "\n",
    "for k,v in pred.items():\n",
    "    print('{}'.format(k))\n",
    "    print(classification_report(y_test, v, target_names=['No', 'Yes']))\n",
    "    print('\\n')"
   ]
  },
  {
   "cell_type": "markdown",
   "metadata": {},
   "source": [
    "Tuning SVM"
   ]
  },
  {
   "cell_type": "code",
   "execution_count": 122,
   "metadata": {},
   "outputs": [
    {
     "name": "stdout",
     "output_type": "stream",
     "text": [
      "kernel=linear, C=1, gamma=0.01\n",
      "     No  Yes\n",
      "No   82   20\n",
      "Yes  23  143\n",
      "\n",
      "\n",
      "kernel=linear, C=1, gamma=0.1\n",
      "     No  Yes\n",
      "No   82   20\n",
      "Yes  23  143\n",
      "\n",
      "\n",
      "kernel=rbf, C=10, gamma=0.01\n",
      "     No  Yes\n",
      "No   78   24\n",
      "Yes  24  142\n",
      "\n",
      "\n",
      "kernel=poly, C=100, gamma=1\n",
      "     No  Yes\n",
      "No   70   32\n",
      "Yes  18  148\n",
      "\n",
      "\n",
      "kernel=linear, C=1, gamma=0.01\n",
      "              precision    recall  f1-score   support\n",
      "\n",
      "          No       0.78      0.80      0.79       102\n",
      "         Yes       0.88      0.86      0.87       166\n",
      "\n",
      "    accuracy                           0.84       268\n",
      "   macro avg       0.83      0.83      0.83       268\n",
      "weighted avg       0.84      0.84      0.84       268\n",
      "\n",
      "\n",
      "\n",
      "kernel=linear, C=1, gamma=0.1\n",
      "              precision    recall  f1-score   support\n",
      "\n",
      "          No       0.78      0.80      0.79       102\n",
      "         Yes       0.88      0.86      0.87       166\n",
      "\n",
      "    accuracy                           0.84       268\n",
      "   macro avg       0.83      0.83      0.83       268\n",
      "weighted avg       0.84      0.84      0.84       268\n",
      "\n",
      "\n",
      "\n",
      "kernel=rbf, C=10, gamma=0.01\n",
      "              precision    recall  f1-score   support\n",
      "\n",
      "          No       0.76      0.76      0.76       102\n",
      "         Yes       0.86      0.86      0.86       166\n",
      "\n",
      "    accuracy                           0.82       268\n",
      "   macro avg       0.81      0.81      0.81       268\n",
      "weighted avg       0.82      0.82      0.82       268\n",
      "\n",
      "\n",
      "\n",
      "kernel=poly, C=100, gamma=1\n",
      "              precision    recall  f1-score   support\n",
      "\n",
      "          No       0.80      0.69      0.74       102\n",
      "         Yes       0.82      0.89      0.86       166\n",
      "\n",
      "    accuracy                           0.81       268\n",
      "   macro avg       0.81      0.79      0.80       268\n",
      "weighted avg       0.81      0.81      0.81       268\n",
      "\n",
      "\n",
      "\n"
     ]
    }
   ],
   "source": [
    "# kernel=linear, C=1, gamma=0.01\n",
    "svm_0 = SVC(kernel='linear', C=1, gamma=0.01, random_state=23)\n",
    "\n",
    "# kernel=linear, C=1, gamma=0.1\n",
    "svm_1 = SVC(kernel='linear', C=1, gamma=0.1, random_state=23)\n",
    "\n",
    "# kernel=rbf, C=10, gamma=0.01\n",
    "svm_2 = SVC(kernel='rbf', C=10, gamma=0.01, random_state=23)\n",
    "\n",
    "# kernel=poly, C=100, gamma=1\n",
    "svm_3 = SVC(kernel='poly', C=100, gamma=1, random_state=23)\n",
    "\n",
    "svm_0.fit(X_train, y_train)\n",
    "svm_1.fit(X_train, y_train)\n",
    "svm_2.fit(X_train, y_train)\n",
    "svm_3.fit(X_train, y_train)\n",
    "\n",
    "pred_svm_0 = svm_0.predict(X_test)\n",
    "pred_svm_1 = svm_1.predict(X_test)\n",
    "pred_svm_2 = svm_2.predict(X_test)\n",
    "pred_svm_3 = svm_3.predict(X_test)\n",
    "\n",
    "labels = ['No', 'Yes']\n",
    "\n",
    "pred = {'kernel=linear, C=1, gamma=0.01':pred_svm_0, \n",
    "        'kernel=linear, C=1, gamma=0.1':pred_svm_1, \n",
    "        'kernel=rbf, C=10, gamma=0.01':pred_svm_2, \n",
    "        'kernel=poly, C=100, gamma=1':pred_svm_3}\n",
    "\n",
    "for k,v in pred.items():\n",
    "    print('{}'.format(k))\n",
    "    print(pd.DataFrame(data=confusion_matrix(y_test, v), index=labels, columns=labels))\n",
    "    print('\\n')\n",
    "\n",
    "pred = {'kernel=linear, C=1, gamma=0.01':pred_svm_0, \n",
    "        'kernel=linear, C=1, gamma=0.1':pred_svm_1, \n",
    "        'kernel=rbf, C=10, gamma=0.01':pred_svm_2, \n",
    "        'kernel=poly, C=100, gamma=1':pred_svm_3}\n",
    "\n",
    "for k,v in pred.items():\n",
    "    print('{}'.format(k))\n",
    "    print(classification_report(y_test, v, target_names=['No', 'Yes']))\n",
    "    print('\\n')"
   ]
  },
  {
   "cell_type": "markdown",
   "metadata": {},
   "source": [
    "# KNN Scaled"
   ]
  },
  {
   "cell_type": "code",
   "execution_count": 123,
   "metadata": {},
   "outputs": [
    {
     "name": "stdout",
     "output_type": "stream",
     "text": [
      "Confusion Matrix\n",
      "     No  Yes\n",
      "No   63   39\n",
      "Yes  73   93\n",
      "Classification Report\n",
      "              precision    recall  f1-score   support\n",
      "\n",
      "          No       0.46      0.62      0.53       102\n",
      "         Yes       0.70      0.56      0.62       166\n",
      "\n",
      "    accuracy                           0.58       268\n",
      "   macro avg       0.58      0.59      0.58       268\n",
      "weighted avg       0.61      0.58      0.59       268\n",
      "\n"
     ]
    }
   ],
   "source": [
    "from sklearn.preprocessing import StandardScaler\n",
    "\n",
    "scaler = StandardScaler()\n",
    "X_scaled = scaler.fit_transform(X_transformed)\n",
    "X_standardize = pd.DataFrame(X_scaled,columns=X_transformed.columns)\n",
    "\n",
    "X_train, X_test, y_train, y_test = train_test_split(X_standardize, y, test_size=0.2, random_state=47)\n",
    "\n",
    "knn = KNeighborsClassifier()\n",
    "knn.fit(X_train, y_train)\n",
    "\n",
    "pred_knn = knn.predict(X_test)\n",
    "\n",
    "labels = ['No', 'Yes']\n",
    "\n",
    "print('Confusion Matrix')\n",
    "print(pd.DataFrame(data=confusion_matrix(y_test, pred_knn), index=labels, columns=labels))\n",
    "\n",
    "print('Classification Report')\n",
    "print(classification_report(y_test, pred_knn, target_names=['No', 'Yes']))"
   ]
  },
  {
   "cell_type": "markdown",
   "metadata": {},
   "source": [
    "# Deciding on the algorithms (& tunings)"
   ]
  },
  {
   "cell_type": "markdown",
   "metadata": {},
   "source": [
    "Decision Tree has the best f1 score."
   ]
  },
  {
   "cell_type": "code",
   "execution_count": 124,
   "metadata": {},
   "outputs": [],
   "source": [
    "test_pred_tree = tree.predict(test_transformed)"
   ]
  },
  {
   "cell_type": "code",
   "execution_count": 125,
   "metadata": {},
   "outputs": [
    {
     "data": {
      "text/plain": [
       "array(['yes', 'yes', 'yes', 'yes', 'yes', 'yes', 'yes', 'yes', 'yes',\n",
       "       'yes', 'yes', 'yes', 'yes', 'yes', 'yes', 'yes', 'yes', 'yes',\n",
       "       'yes', 'yes', 'yes', 'yes', 'yes', 'yes', 'yes', 'no', 'no', 'yes',\n",
       "       'yes', 'yes', 'yes', 'yes', 'yes', 'yes', 'yes', 'yes', 'yes',\n",
       "       'yes', 'yes', 'yes', 'yes', 'no', 'yes', 'yes', 'yes', 'yes',\n",
       "       'yes', 'no', 'yes', 'yes', 'yes', 'yes', 'yes', 'yes', 'no', 'yes',\n",
       "       'no', 'no', 'no', 'yes', 'yes', 'yes', 'no', 'no', 'no', 'yes',\n",
       "       'yes', 'yes', 'yes', 'yes', 'yes', 'yes', 'yes', 'no', 'yes', 'no',\n",
       "       'yes', 'yes', 'no', 'yes', 'yes', 'no', 'yes', 'no', 'no', 'yes',\n",
       "       'no', 'yes', 'yes', 'yes', 'yes', 'yes', 'no', 'no', 'yes', 'yes',\n",
       "       'yes', 'no', 'yes', 'yes', 'yes', 'yes', 'yes', 'no', 'yes', 'yes',\n",
       "       'yes', 'no', 'yes', 'yes', 'yes', 'yes', 'yes', 'yes', 'yes', 'no',\n",
       "       'no', 'yes', 'yes', 'no', 'yes', 'yes', 'yes', 'no', 'no', 'yes',\n",
       "       'no', 'yes', 'yes', 'yes', 'yes', 'yes', 'no', 'yes', 'yes', 'no',\n",
       "       'yes', 'yes', 'yes', 'no', 'yes', 'yes', 'yes', 'yes', 'yes',\n",
       "       'yes', 'no', 'no', 'no', 'yes', 'no', 'no', 'no', 'no', 'yes',\n",
       "       'yes', 'yes', 'no', 'yes', 'yes', 'yes', 'no', 'yes', 'yes', 'yes',\n",
       "       'yes', 'no', 'yes', 'yes', 'no', 'yes', 'yes', 'no', 'no', 'yes',\n",
       "       'yes', 'yes', 'yes', 'yes', 'yes', 'yes', 'no', 'yes', 'no', 'yes',\n",
       "       'yes', 'no', 'yes', 'yes', 'no', 'yes', 'yes', 'no', 'yes', 'yes',\n",
       "       'yes', 'no', 'yes', 'yes', 'yes', 'no', 'yes', 'no', 'yes', 'no',\n",
       "       'yes', 'yes', 'no', 'no', 'yes', 'yes', 'no', 'yes', 'yes', 'yes',\n",
       "       'no', 'yes', 'yes', 'no', 'yes', 'yes', 'yes', 'yes', 'no', 'no',\n",
       "       'yes', 'no', 'yes', 'yes', 'yes', 'yes', 'no', 'no', 'yes', 'no',\n",
       "       'yes', 'yes', 'yes', 'yes', 'yes', 'yes', 'no', 'yes', 'yes', 'no',\n",
       "       'yes', 'no', 'yes', 'yes', 'yes', 'yes', 'yes', 'yes', 'yes',\n",
       "       'yes', 'no', 'no', 'yes', 'yes', 'no', 'yes', 'no', 'yes', 'yes',\n",
       "       'no', 'yes', 'yes', 'yes', 'yes', 'no', 'yes', 'no', 'yes', 'yes',\n",
       "       'yes', 'yes', 'yes', 'yes', 'yes', 'yes', 'no', 'no', 'no', 'yes',\n",
       "       'yes', 'no', 'yes', 'yes', 'yes', 'yes', 'yes', 'no', 'yes', 'yes',\n",
       "       'yes', 'no', 'yes', 'yes', 'no', 'yes'], dtype=object)"
      ]
     },
     "execution_count": 125,
     "metadata": {},
     "output_type": "execute_result"
    }
   ],
   "source": [
    "test_pred_tree"
   ]
  },
  {
   "cell_type": "code",
   "execution_count": 126,
   "metadata": {},
   "outputs": [
    {
     "data": {
      "text/plain": [
       "0        1\n",
       "1        2\n",
       "2        3\n",
       "3        4\n",
       "4        5\n",
       "      ... \n",
       "295    296\n",
       "296    297\n",
       "297    298\n",
       "298    299\n",
       "299    300\n",
       "Name: row_id, Length: 300, dtype: object"
      ]
     },
     "execution_count": 126,
     "metadata": {},
     "output_type": "execute_result"
    }
   ],
   "source": [
    "r"
   ]
  },
  {
   "cell_type": "code",
   "execution_count": 127,
   "metadata": {},
   "outputs": [
    {
     "data": {
      "text/plain": [
       "pandas.core.series.Series"
      ]
     },
     "execution_count": 127,
     "metadata": {},
     "output_type": "execute_result"
    }
   ],
   "source": [
    "type(r)"
   ]
  },
  {
   "cell_type": "code",
   "execution_count": 128,
   "metadata": {},
   "outputs": [
    {
     "data": {
      "text/plain": [
       "numpy.ndarray"
      ]
     },
     "execution_count": 128,
     "metadata": {},
     "output_type": "execute_result"
    }
   ],
   "source": [
    "type(test_pred_tree)"
   ]
  },
  {
   "cell_type": "code",
   "execution_count": 131,
   "metadata": {},
   "outputs": [
    {
     "data": {
      "text/html": [
       "<div>\n",
       "<style scoped>\n",
       "    .dataframe tbody tr th:only-of-type {\n",
       "        vertical-align: middle;\n",
       "    }\n",
       "\n",
       "    .dataframe tbody tr th {\n",
       "        vertical-align: top;\n",
       "    }\n",
       "\n",
       "    .dataframe thead th {\n",
       "        text-align: right;\n",
       "    }\n",
       "</style>\n",
       "<table border=\"1\" class=\"dataframe\">\n",
       "  <thead>\n",
       "    <tr style=\"text-align: right;\">\n",
       "      <th></th>\n",
       "      <th>row_id</th>\n",
       "      <th>prediction</th>\n",
       "    </tr>\n",
       "  </thead>\n",
       "  <tbody>\n",
       "    <tr>\n",
       "      <td>0</td>\n",
       "      <td>1</td>\n",
       "      <td>yes</td>\n",
       "    </tr>\n",
       "    <tr>\n",
       "      <td>1</td>\n",
       "      <td>2</td>\n",
       "      <td>yes</td>\n",
       "    </tr>\n",
       "    <tr>\n",
       "      <td>2</td>\n",
       "      <td>3</td>\n",
       "      <td>yes</td>\n",
       "    </tr>\n",
       "    <tr>\n",
       "      <td>3</td>\n",
       "      <td>4</td>\n",
       "      <td>yes</td>\n",
       "    </tr>\n",
       "    <tr>\n",
       "      <td>4</td>\n",
       "      <td>5</td>\n",
       "      <td>yes</td>\n",
       "    </tr>\n",
       "    <tr>\n",
       "      <td>5</td>\n",
       "      <td>6</td>\n",
       "      <td>yes</td>\n",
       "    </tr>\n",
       "    <tr>\n",
       "      <td>6</td>\n",
       "      <td>7</td>\n",
       "      <td>yes</td>\n",
       "    </tr>\n",
       "    <tr>\n",
       "      <td>7</td>\n",
       "      <td>8</td>\n",
       "      <td>yes</td>\n",
       "    </tr>\n",
       "    <tr>\n",
       "      <td>8</td>\n",
       "      <td>9</td>\n",
       "      <td>yes</td>\n",
       "    </tr>\n",
       "    <tr>\n",
       "      <td>9</td>\n",
       "      <td>10</td>\n",
       "      <td>yes</td>\n",
       "    </tr>\n",
       "    <tr>\n",
       "      <td>10</td>\n",
       "      <td>11</td>\n",
       "      <td>yes</td>\n",
       "    </tr>\n",
       "    <tr>\n",
       "      <td>11</td>\n",
       "      <td>12</td>\n",
       "      <td>yes</td>\n",
       "    </tr>\n",
       "    <tr>\n",
       "      <td>12</td>\n",
       "      <td>13</td>\n",
       "      <td>yes</td>\n",
       "    </tr>\n",
       "    <tr>\n",
       "      <td>13</td>\n",
       "      <td>14</td>\n",
       "      <td>yes</td>\n",
       "    </tr>\n",
       "    <tr>\n",
       "      <td>14</td>\n",
       "      <td>15</td>\n",
       "      <td>yes</td>\n",
       "    </tr>\n",
       "    <tr>\n",
       "      <td>15</td>\n",
       "      <td>16</td>\n",
       "      <td>yes</td>\n",
       "    </tr>\n",
       "    <tr>\n",
       "      <td>16</td>\n",
       "      <td>17</td>\n",
       "      <td>yes</td>\n",
       "    </tr>\n",
       "    <tr>\n",
       "      <td>17</td>\n",
       "      <td>18</td>\n",
       "      <td>yes</td>\n",
       "    </tr>\n",
       "    <tr>\n",
       "      <td>18</td>\n",
       "      <td>19</td>\n",
       "      <td>yes</td>\n",
       "    </tr>\n",
       "    <tr>\n",
       "      <td>19</td>\n",
       "      <td>20</td>\n",
       "      <td>yes</td>\n",
       "    </tr>\n",
       "    <tr>\n",
       "      <td>20</td>\n",
       "      <td>21</td>\n",
       "      <td>yes</td>\n",
       "    </tr>\n",
       "    <tr>\n",
       "      <td>21</td>\n",
       "      <td>22</td>\n",
       "      <td>yes</td>\n",
       "    </tr>\n",
       "    <tr>\n",
       "      <td>22</td>\n",
       "      <td>23</td>\n",
       "      <td>yes</td>\n",
       "    </tr>\n",
       "    <tr>\n",
       "      <td>23</td>\n",
       "      <td>24</td>\n",
       "      <td>yes</td>\n",
       "    </tr>\n",
       "    <tr>\n",
       "      <td>24</td>\n",
       "      <td>25</td>\n",
       "      <td>yes</td>\n",
       "    </tr>\n",
       "    <tr>\n",
       "      <td>25</td>\n",
       "      <td>26</td>\n",
       "      <td>no</td>\n",
       "    </tr>\n",
       "    <tr>\n",
       "      <td>26</td>\n",
       "      <td>27</td>\n",
       "      <td>no</td>\n",
       "    </tr>\n",
       "    <tr>\n",
       "      <td>27</td>\n",
       "      <td>28</td>\n",
       "      <td>yes</td>\n",
       "    </tr>\n",
       "    <tr>\n",
       "      <td>28</td>\n",
       "      <td>29</td>\n",
       "      <td>yes</td>\n",
       "    </tr>\n",
       "    <tr>\n",
       "      <td>29</td>\n",
       "      <td>30</td>\n",
       "      <td>yes</td>\n",
       "    </tr>\n",
       "    <tr>\n",
       "      <td>30</td>\n",
       "      <td>31</td>\n",
       "      <td>yes</td>\n",
       "    </tr>\n",
       "    <tr>\n",
       "      <td>31</td>\n",
       "      <td>32</td>\n",
       "      <td>yes</td>\n",
       "    </tr>\n",
       "    <tr>\n",
       "      <td>32</td>\n",
       "      <td>33</td>\n",
       "      <td>yes</td>\n",
       "    </tr>\n",
       "    <tr>\n",
       "      <td>33</td>\n",
       "      <td>34</td>\n",
       "      <td>yes</td>\n",
       "    </tr>\n",
       "    <tr>\n",
       "      <td>34</td>\n",
       "      <td>35</td>\n",
       "      <td>yes</td>\n",
       "    </tr>\n",
       "    <tr>\n",
       "      <td>35</td>\n",
       "      <td>36</td>\n",
       "      <td>yes</td>\n",
       "    </tr>\n",
       "    <tr>\n",
       "      <td>36</td>\n",
       "      <td>37</td>\n",
       "      <td>yes</td>\n",
       "    </tr>\n",
       "    <tr>\n",
       "      <td>37</td>\n",
       "      <td>38</td>\n",
       "      <td>yes</td>\n",
       "    </tr>\n",
       "    <tr>\n",
       "      <td>38</td>\n",
       "      <td>39</td>\n",
       "      <td>yes</td>\n",
       "    </tr>\n",
       "    <tr>\n",
       "      <td>39</td>\n",
       "      <td>40</td>\n",
       "      <td>yes</td>\n",
       "    </tr>\n",
       "    <tr>\n",
       "      <td>40</td>\n",
       "      <td>41</td>\n",
       "      <td>yes</td>\n",
       "    </tr>\n",
       "    <tr>\n",
       "      <td>41</td>\n",
       "      <td>42</td>\n",
       "      <td>no</td>\n",
       "    </tr>\n",
       "    <tr>\n",
       "      <td>42</td>\n",
       "      <td>43</td>\n",
       "      <td>yes</td>\n",
       "    </tr>\n",
       "    <tr>\n",
       "      <td>43</td>\n",
       "      <td>44</td>\n",
       "      <td>yes</td>\n",
       "    </tr>\n",
       "    <tr>\n",
       "      <td>44</td>\n",
       "      <td>45</td>\n",
       "      <td>yes</td>\n",
       "    </tr>\n",
       "    <tr>\n",
       "      <td>45</td>\n",
       "      <td>46</td>\n",
       "      <td>yes</td>\n",
       "    </tr>\n",
       "    <tr>\n",
       "      <td>46</td>\n",
       "      <td>47</td>\n",
       "      <td>yes</td>\n",
       "    </tr>\n",
       "    <tr>\n",
       "      <td>47</td>\n",
       "      <td>48</td>\n",
       "      <td>no</td>\n",
       "    </tr>\n",
       "    <tr>\n",
       "      <td>48</td>\n",
       "      <td>49</td>\n",
       "      <td>yes</td>\n",
       "    </tr>\n",
       "    <tr>\n",
       "      <td>49</td>\n",
       "      <td>50</td>\n",
       "      <td>yes</td>\n",
       "    </tr>\n",
       "  </tbody>\n",
       "</table>\n",
       "</div>"
      ],
      "text/plain": [
       "   row_id prediction\n",
       "0       1        yes\n",
       "1       2        yes\n",
       "2       3        yes\n",
       "3       4        yes\n",
       "4       5        yes\n",
       "5       6        yes\n",
       "6       7        yes\n",
       "7       8        yes\n",
       "8       9        yes\n",
       "9      10        yes\n",
       "10     11        yes\n",
       "11     12        yes\n",
       "12     13        yes\n",
       "13     14        yes\n",
       "14     15        yes\n",
       "15     16        yes\n",
       "16     17        yes\n",
       "17     18        yes\n",
       "18     19        yes\n",
       "19     20        yes\n",
       "20     21        yes\n",
       "21     22        yes\n",
       "22     23        yes\n",
       "23     24        yes\n",
       "24     25        yes\n",
       "25     26         no\n",
       "26     27         no\n",
       "27     28        yes\n",
       "28     29        yes\n",
       "29     30        yes\n",
       "30     31        yes\n",
       "31     32        yes\n",
       "32     33        yes\n",
       "33     34        yes\n",
       "34     35        yes\n",
       "35     36        yes\n",
       "36     37        yes\n",
       "37     38        yes\n",
       "38     39        yes\n",
       "39     40        yes\n",
       "40     41        yes\n",
       "41     42         no\n",
       "42     43        yes\n",
       "43     44        yes\n",
       "44     45        yes\n",
       "45     46        yes\n",
       "46     47        yes\n",
       "47     48         no\n",
       "48     49        yes\n",
       "49     50        yes"
      ]
     },
     "execution_count": 131,
     "metadata": {},
     "output_type": "execute_result"
    }
   ],
   "source": [
    "submission = pd.DataFrame({'row_id':r.values,'prediction': test_pred_tree})\n",
    "submission.head(50)"
   ]
  },
  {
   "cell_type": "markdown",
   "metadata": {},
   "source": [
    "# Save the DataFrame to SQL"
   ]
  },
  {
   "cell_type": "code",
   "execution_count": 134,
   "metadata": {},
   "outputs": [],
   "source": [
    "submission.to_sql('classification_model_results', con=connection, if_exists='append', index=False,method='multi',chunksize=500)"
   ]
  },
  {
   "cell_type": "code",
   "execution_count": 135,
   "metadata": {},
   "outputs": [
    {
     "data": {
      "text/plain": [
       "['claims_data',\n",
       " 'classification_model_results',\n",
       " 'english_players',\n",
       " 'football_players',\n",
       " 'test_set']"
      ]
     },
     "execution_count": 135,
     "metadata": {},
     "output_type": "execute_result"
    }
   ],
   "source": [
    "connection.table_names()"
   ]
  },
  {
   "cell_type": "code",
   "execution_count": null,
   "metadata": {},
   "outputs": [],
   "source": []
  }
 ],
 "metadata": {
  "kernelspec": {
   "display_name": "Python 3",
   "language": "python",
   "name": "python3"
  },
  "language_info": {
   "codemirror_mode": {
    "name": "ipython",
    "version": 3
   },
   "file_extension": ".py",
   "mimetype": "text/x-python",
   "name": "python",
   "nbconvert_exporter": "python",
   "pygments_lexer": "ipython3",
   "version": "3.7.4"
  }
 },
 "nbformat": 4,
 "nbformat_minor": 2
}
